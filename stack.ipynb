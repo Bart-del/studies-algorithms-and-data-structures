{
  "nbformat": 4,
  "nbformat_minor": 0,
  "metadata": {
    "colab": {
      "name": "stack.ipynb",
      "provenance": [],
      "authorship_tag": "ABX9TyPvqtH11IGJOSRV7zgubyQH",
      "include_colab_link": true
    },
    "kernelspec": {
      "name": "python3",
      "display_name": "Python 3"
    }
  },
  "cells": [
    {
      "cell_type": "markdown",
      "metadata": {
        "id": "view-in-github",
        "colab_type": "text"
      },
      "source": [
        "<a href=\"https://colab.research.google.com/github/Bart-del/studies-algorithms-and-data-structures/blob/main/stack.ipynb\" target=\"_parent\"><img src=\"https://colab.research.google.com/assets/colab-badge.svg\" alt=\"Open In Colab\"/></a>"
      ]
    },
    {
      "cell_type": "markdown",
      "metadata": {
        "id": "HHPek_hDjpSa"
      },
      "source": [
        "**<h1>Stack</h1>**\r\n",
        "\r\n",
        "This is my implementation of the stack data structure. The individual functions have been designed to meet the requirements of the task. The methods meet the basic assumptions of the concept of this data structure."
      ]
    },
    {
      "cell_type": "code",
      "metadata": {
        "id": "AbLnrF2rjnqz"
      },
      "source": [
        "class STACK:\r\n",
        "    def __init__(self):\r\n",
        "        self.top = 0\r\n",
        "        self.data = 10 * [0]\r\n",
        "\r\n",
        "    def __str__(self):\r\n",
        "        data_to_strings = [str(var) for var in self.data[0:self.top]]\r\n",
        "        return \" \".join(data_to_strings)\r\n",
        "\r\n",
        "    def PUSH(self, var):\r\n",
        "        if self.top >= 10:\r\n",
        "            return \"overflow\"\r\n",
        "        self.data[self.top] = var\r\n",
        "        self.top += 1\r\n",
        "\r\n",
        "    def POP(self):\r\n",
        "        if self.STACK_EMPTY():\r\n",
        "            return \"underflow\"\r\n",
        "        self.top -= 1\r\n",
        "        return self.data[self.top]\r\n",
        "\r\n",
        "    def STACK_EMPTY(self):\r\n",
        "        if self.top == 0:\r\n",
        "            return True\r\n",
        "        return False\r\n",
        "\r\n",
        "    def WRITE(self, arg = None):\r\n",
        "        if arg is None:\r\n",
        "            print(self)\r\n",
        "        else:\r\n",
        "            print(str(arg).lower())\r\n",
        "\r\n",
        "\r\n",
        "instance = STACK()\r\n",
        "instance.PUSH(1)\r\n",
        "instance.PUSH(2)\r\n",
        "instance.WRITE()\r\n",
        "instance.PUSH(3)\r\n",
        "instance.WRITE()\r\n",
        "instance.WRITE(instance.STACK_EMPTY())\r\n",
        "instance.WRITE(instance.POP())\r\n",
        "instance.WRITE(instance.POP())\r\n",
        "instance.WRITE()\r\n",
        "instance.WRITE(instance.POP())\r\n",
        "instance.WRITE(instance.POP())\r\n",
        "instance.WRITE()\r\n",
        "instance.WRITE(instance.STACK_EMPTY())\r\n"
      ],
      "execution_count": null,
      "outputs": []
    }
  ]
}