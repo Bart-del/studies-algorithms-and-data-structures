{
  "nbformat": 4,
  "nbformat_minor": 0,
  "metadata": {
    "colab": {
      "name": "selection_sort.ipynb",
      "provenance": [],
      "authorship_tag": "ABX9TyMvOXEcXGAoHAh/PsRkI0zO",
      "include_colab_link": true
    },
    "kernelspec": {
      "name": "python3",
      "display_name": "Python 3"
    }
  },
  "cells": [
    {
      "cell_type": "markdown",
      "metadata": {
        "id": "view-in-github",
        "colab_type": "text"
      },
      "source": [
        "<a href=\"https://colab.research.google.com/github/Bart-del/studies-algorithms-and-data-structures/blob/main/selection_sort.ipynb\" target=\"_parent\"><img src=\"https://colab.research.google.com/assets/colab-badge.svg\" alt=\"Open In Colab\"/></a>"
      ]
    },
    {
      "cell_type": "markdown",
      "metadata": {
        "id": "Kn8fk_RkbNKP"
      },
      "source": [
        "**<h1>Selection sort</h1>**\r\n",
        "\r\n",
        "This is my implementation of the selection sort. In the first line of input, enter the number of sets of numbers to be sorted. From the second line, numbers from the following sets should be entered, separated by spaces.\r\n",
        "\r\n",
        ">For example:\r\n",
        "\r\n",
        "```\r\n",
        "Input:\r\n",
        "3\r\n",
        "15 5 2 6 8 2 9 4\r\n",
        "0 9 1 5 6 2 9 1\r\n",
        "54 49 21 96 21 96 \r\n",
        "\r\n",
        "Output:\r\n",
        "2 2 4 5 6 8 9 15\r\n",
        "0 1 1 2 5 6 9 9\r\n",
        "21 21 49 51 96 96\r\n",
        "```\r\n",
        "\r\n"
      ]
    },
    {
      "cell_type": "code",
      "metadata": {
        "colab": {
          "base_uri": "https://localhost:8080/"
        },
        "id": "OgVXUEApaW60",
        "outputId": "3424e796-db46-40e1-8a4d-344e5bacfcd6"
      },
      "source": [
        "__author__ = \"Bartłomiej Wysocki\"\r\n",
        "__copyright__ = \"Copyright 2021, College Project\"\r\n",
        "\r\n",
        "attempts = int(input())\r\n",
        "array = []\r\n",
        "loop = 0\r\n",
        "\r\n",
        "for line in iter(input,\"\\n\"):\r\n",
        "    \r\n",
        "    array.append(line.split(' '))\r\n",
        "    \r\n",
        "    loop = loop + 1\r\n",
        "    \r\n",
        "    if loop == attempts:\r\n",
        "        break\r\n",
        "    \r\n",
        "def selection_sort(main_array,attempts):\r\n",
        "    \r\n",
        "    for x in range(attempts):\r\n",
        "        \r\n",
        "        single_arr = main_array[x]\r\n",
        "        n = len(single_arr)\r\n",
        "        \r\n",
        "        for i in range(n): \r\n",
        "            \r\n",
        "            minim_index = i\r\n",
        "        \r\n",
        "            for j in range(i+1, n): \r\n",
        "                \r\n",
        "                if int(single_arr[minim_index]) > int(single_arr[j]): \r\n",
        "                    minim_index = j \r\n",
        "              \r\n",
        "            single_arr[i], single_arr[minim_index] = single_arr[minim_index], single_arr[i]\r\n",
        "            \r\n",
        "        print(*single_arr, sep = \" \")\r\n",
        "                 \r\n",
        "selection_sort(array, attempts)"
      ],
      "execution_count": null,
      "outputs": [
        {
          "output_type": "stream",
          "text": [
            "1\n",
            "0 4 1 7 4 2 9 6\n",
            "0 1 2 4 4 6 7 9\n"
          ],
          "name": "stdout"
        }
      ]
    }
  ]
}