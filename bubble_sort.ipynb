{
  "nbformat": 4,
  "nbformat_minor": 0,
  "metadata": {
    "colab": {
      "name": "bubble_sort.ipynb",
      "provenance": [],
      "authorship_tag": "ABX9TyPh6Oh45nKeciI0tr/Q3TGN",
      "include_colab_link": true
    },
    "kernelspec": {
      "name": "python3",
      "display_name": "Python 3"
    }
  },
  "cells": [
    {
      "cell_type": "markdown",
      "metadata": {
        "id": "view-in-github",
        "colab_type": "text"
      },
      "source": [
        "<a href=\"https://colab.research.google.com/github/Bart-del/studies-algorithms-and-data-structures/blob/main/bubble_sort.ipynb\" target=\"_parent\"><img src=\"https://colab.research.google.com/assets/colab-badge.svg\" alt=\"Open In Colab\"/></a>"
      ]
    },
    {
      "cell_type": "markdown",
      "metadata": {
        "id": "2g349PjvWoIZ"
      },
      "source": [
        "**<h1>Bubble sort</h1>**\r\n",
        "\r\n",
        "This is my implementation of the bubble sort. In the first line of input, enter the number of sets of numbers to be sorted. From the second line, numbers from the following sets should be entered, separated by spaces.\r\n",
        ">For example:\r\n",
        "\r\n",
        "```\r\n",
        "Input:\r\n",
        "3\r\n",
        "15 5 2 6 8 2 9 4\r\n",
        "0 9 1 5 6 2 9 1\r\n",
        "54 49 21 96 21 96 \r\n",
        "\r\n",
        "Output:\r\n",
        "2 2 4 5 6 8 9 15\r\n",
        "0 1 1 2 5 6 9 9\r\n",
        "21 21 49 51 96 96\r\n",
        "```\r\n",
        "\r\n"
      ]
    },
    {
      "cell_type": "code",
      "metadata": {
        "id": "v9Ut8uUdWpyK"
      },
      "source": [
        "__author__ = \"Bartłomiej Wysocki\"\r\n",
        "__copyright__ = \"Copyright 2021, College Project\"\r\n",
        "\r\n",
        "attempts = int(input())\r\n",
        "array = []\r\n",
        "loop = 0\r\n",
        "\r\n",
        "for line in iter(input,\"\\n\"):\r\n",
        "    \r\n",
        "    array.append(line.split(' '))\r\n",
        "    \r\n",
        "    loop = loop + 1\r\n",
        "    \r\n",
        "    if loop == attempts:\r\n",
        "        break\r\n",
        "\r\n",
        "def bubble_sort(main_array, attempts):\r\n",
        "    for x in range(attempts):\r\n",
        "        single_arr = main_array[x]\r\n",
        "        \r\n",
        "        n = len(single_arr)\r\n",
        "    \r\n",
        "        for i in range(n-1):\r\n",
        "        \r\n",
        "            for j in range(0, n-i-1):\r\n",
        "                \r\n",
        "                if int(single_arr[j]) > int(single_arr[j+1]): \r\n",
        "                    single_arr[j], single_arr[j+1] = single_arr[j+1], single_arr[j] \r\n",
        "        single_arr.pop(0)\r\n",
        "        print(*single_arr, sep = \" \")\r\n",
        "\r\n",
        "bubble_sort(arr_1, attempts)"
      ],
      "execution_count": null,
      "outputs": []
    }
  ]
}