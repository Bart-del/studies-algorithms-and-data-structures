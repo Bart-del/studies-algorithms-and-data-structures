{
  "nbformat": 4,
  "nbformat_minor": 0,
  "metadata": {
    "colab": {
      "name": "delta_calculation_algorithm.ipynb",
      "provenance": [],
      "collapsed_sections": [],
      "authorship_tag": "ABX9TyMKtl6w8hUvf/318ftWSWy1",
      "include_colab_link": true
    },
    "kernelspec": {
      "name": "python3",
      "display_name": "Python 3"
    }
  },
  "cells": [
    {
      "cell_type": "markdown",
      "metadata": {
        "id": "view-in-github",
        "colab_type": "text"
      },
      "source": [
        "<a href=\"https://colab.research.google.com/github/Bart-del/studies-algorithms-and-data-structures/blob/main/delta_calculation_algorithm.ipynb\" target=\"_parent\"><img src=\"https://colab.research.google.com/assets/colab-badge.svg\" alt=\"Open In Colab\"/></a>"
      ]
    },
    {
      "cell_type": "markdown",
      "metadata": {
        "id": "zyY4sC9CMxNh"
      },
      "source": [
        "**<h1>Delta calculation algorithm</h1>**\r\n",
        "\r\n",
        "This is a simple implementation of a delta calculation based on the a, b, c values received from the user. The first line of input is the number of consecutive sets of coefficients of the quadratic equation. From the next line, enter the coefficients of the equations in the form of numbers a b c separated by spaces.\r\n",
        "\r\n",
        "\r\n",
        ">For example:\r\n",
        "\r\n",
        "```\r\n",
        "2\r\n",
        "3 15 -2\r\n",
        "6 -4 5\r\n",
        "```\r\n",
        "\r\n",
        "\r\n"
      ]
    },
    {
      "cell_type": "code",
      "metadata": {
        "colab": {
          "base_uri": "https://localhost:8080/"
        },
        "id": "gmeHZTI2LmHX",
        "outputId": "9dbd8daf-8dbf-46d3-887e-4a8f95765f1f"
      },
      "source": [
        "__author__ = \"Bartłomiej Wysocki\"\r\n",
        "__copyright__ = \"Copyright 2021, College Project\"\r\n",
        "\r\n",
        "from math import sqrt\r\n",
        "\r\n",
        "\r\n",
        "def delMinusBefZ(variable):\r\n",
        "    if variable == -0:\r\n",
        "        return 0\r\n",
        "    else:\r\n",
        "        return variable\r\n",
        "\r\n",
        "\r\n",
        "e = int(input())\r\n",
        "f = 0\r\n",
        "tab = []\r\n",
        "\r\n",
        "for line in iter(input, \"\\n\"):\r\n",
        "\r\n",
        "    tab.append(line.split(' '))\r\n",
        "\r\n",
        "    f = f + 1\r\n",
        "\r\n",
        "    if f == e:\r\n",
        "        break\r\n",
        "\r\n",
        "for x in tab:\r\n",
        "\r\n",
        "    a, b, c = x\r\n",
        "    a = float(a)\r\n",
        "    b = float(b)\r\n",
        "    c = float(c)\r\n",
        "\r\n",
        "    if a == 0 and b == 0 and c == 0:\r\n",
        "        print(\"R\")\r\n",
        "        continue\r\n",
        "    if a == 0 and b == 0:\r\n",
        "        print(\"0\")\r\n",
        "        continue\r\n",
        "    if a == 0:\r\n",
        "        result = -1 * c / b\r\n",
        "        result = delMinusBefZ(result)\r\n",
        "        print(\"1 {:g}\".format(result))\r\n",
        "        continue\r\n",
        "\r\n",
        "    delta = b * b - 4 * a * c\r\n",
        "\r\n",
        "    if delta > 0:\r\n",
        "        x1 = (((-b) + sqrt(delta)) / (2 * a))\r\n",
        "        x2 = (((-b) - sqrt(delta)) / (2 * a))\r\n",
        "        x1 = delMinusBefZ(x1)\r\n",
        "        x2 = delMinusBefZ(x2)\r\n",
        "        if x1 < x2:\r\n",
        "            print(\"2 {:g} {:g}\".format(x1, x2))\r\n",
        "        else:\r\n",
        "            print(\"2 {:g} {:g}\".format(x2, x1))\r\n",
        "    elif delta == 0:\r\n",
        "        if c == 0:\r\n",
        "            print(\"1 0\")\r\n",
        "        else:\r\n",
        "            x0 = -b / 2 * a\r\n",
        "            x0 = delMinusBefZ(x0)\r\n",
        "            print(\"1 {:g}\".format(x0))\r\n",
        "    elif delta < 0:\r\n",
        "        print(\"0\")\r\n"
      ],
      "execution_count": 4,
      "outputs": [
        {
          "output_type": "stream",
          "text": [
            "2\n",
            "3 15 -2\n",
            "6 -4 5\n",
            "2 -5.12996 0.129956\n",
            "0\n"
          ],
          "name": "stdout"
        }
      ]
    }
  ]
}