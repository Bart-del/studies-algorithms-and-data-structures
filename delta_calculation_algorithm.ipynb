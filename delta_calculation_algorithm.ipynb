{
  "nbformat": 4,
  "nbformat_minor": 0,
  "metadata": {
    "colab": {
      "name": "delta_calculation_algorithm.ipynb",
      "provenance": [],
      "collapsed_sections": [],
      "authorship_tag": "ABX9TyNfC05uG+VfMIz0JVnr6Hs7",
      "include_colab_link": true
    },
    "kernelspec": {
      "name": "python3",
      "display_name": "Python 3"
    }
  },
  "cells": [
    {
      "cell_type": "markdown",
      "metadata": {
        "id": "view-in-github",
        "colab_type": "text"
      },
      "source": [
        "<a href=\"https://colab.research.google.com/github/Bart-del/studies-algorithms-and-data-structures/blob/main/delta_calculation_algorithm.ipynb\" target=\"_parent\"><img src=\"https://colab.research.google.com/assets/colab-badge.svg\" alt=\"Open In Colab\"/></a>"
      ]
    },
    {
      "cell_type": "markdown",
      "metadata": {
        "id": "zyY4sC9CMxNh"
      },
      "source": [
        "This is a simple implementation of a delta calculation algorithm based on the a, b, c values received from the user.\r\n"
      ]
    },
    {
      "cell_type": "code",
      "metadata": {
        "colab": {
          "base_uri": "https://localhost:8080/"
        },
        "id": "gmeHZTI2LmHX",
        "outputId": "3b297856-5bd4-4c1b-ac90-aa9f58c8e4e2"
      },
      "source": [
        "__author__ = \"Bartłomiej Wysocki\"\r\n",
        "__copyright__ = \"Copyright 2021, College Project\"\r\n",
        "\r\n",
        "from math import sqrt\r\n",
        "\r\n",
        "\r\n",
        "def delMinusBefZ(variable):\r\n",
        "    if variable == -0:\r\n",
        "        return 0\r\n",
        "    else:\r\n",
        "        return variable\r\n",
        "\r\n",
        "\r\n",
        "e = int(input())\r\n",
        "f = 0\r\n",
        "tab = []\r\n",
        "\r\n",
        "for line in iter(input, \"\\n\"):\r\n",
        "\r\n",
        "    tab.append(line.split(' '))\r\n",
        "\r\n",
        "    f = f + 1\r\n",
        "\r\n",
        "    if f == e:\r\n",
        "        break\r\n",
        "\r\n",
        "for x in tab:\r\n",
        "\r\n",
        "    a, b, c = x\r\n",
        "    a = float(a)\r\n",
        "    b = float(b)\r\n",
        "    c = float(c)\r\n",
        "\r\n",
        "    if a == 0 and b == 0 and c == 0:\r\n",
        "        print(\"R\")\r\n",
        "        continue\r\n",
        "    if a == 0 and b == 0:\r\n",
        "        print(\"0\")\r\n",
        "        continue\r\n",
        "    if a == 0:\r\n",
        "        result = -1 * c / b\r\n",
        "        result = delMinusBefZ(result)\r\n",
        "        print(\"1 {:g}\".format(result))\r\n",
        "        continue\r\n",
        "\r\n",
        "    delta = b * b - 4 * a * c\r\n",
        "\r\n",
        "    if delta > 0:\r\n",
        "        x1 = (((-b) + sqrt(delta)) / (2 * a))\r\n",
        "        x2 = (((-b) - sqrt(delta)) / (2 * a))\r\n",
        "        x1 = delMinusBefZ(x1)\r\n",
        "        x2 = delMinusBefZ(x2)\r\n",
        "        if x1 < x2:\r\n",
        "            print(\"2 {:g} {:g}\".format(x1, x2))\r\n",
        "        else:\r\n",
        "            print(\"2 {:g} {:g}\".format(x2, x1))\r\n",
        "    elif delta == 0:\r\n",
        "        if c == 0:\r\n",
        "            print(\"1 0\")\r\n",
        "        else:\r\n",
        "            x0 = -b / 2 * a\r\n",
        "            x0 = delMinusBefZ(x0)\r\n",
        "            print(\"1 {:g}\".format(x0))\r\n",
        "    elif delta < 0:\r\n",
        "        print(\"0\")\r\n"
      ],
      "execution_count": 3,
      "outputs": [
        {
          "output_type": "stream",
          "text": [
            "2\n",
            "1 3 4\n",
            "5 2 3\n",
            "0\n",
            "0\n"
          ],
          "name": "stdout"
        }
      ]
    }
  ]
}