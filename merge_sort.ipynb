{
  "nbformat": 4,
  "nbformat_minor": 0,
  "metadata": {
    "colab": {
      "name": "merge_sort.ipynb",
      "provenance": [],
      "authorship_tag": "ABX9TyOKtZlNkrCQps5RMuLAPHyM",
      "include_colab_link": true
    },
    "kernelspec": {
      "name": "python3",
      "display_name": "Python 3"
    }
  },
  "cells": [
    {
      "cell_type": "markdown",
      "metadata": {
        "id": "view-in-github",
        "colab_type": "text"
      },
      "source": [
        "<a href=\"https://colab.research.google.com/github/Bart-del/studies-algorithms-and-data-structures/blob/main/merge_sort.ipynb\" target=\"_parent\"><img src=\"https://colab.research.google.com/assets/colab-badge.svg\" alt=\"Open In Colab\"/></a>"
      ]
    },
    {
      "cell_type": "markdown",
      "metadata": {
        "id": "RFAthSSZfIhL"
      },
      "source": [
        "**<h1>Merge sort</h1>**\r\n",
        "\r\n",
        "This is my implementation of the merge sort. In the first line of input, enter the number of sets of numbers to be sorted. From the second line, numbers from the following sets should be entered, separated by spaces.\r\n",
        "\r\n",
        ">For example:\r\n",
        "\r\n",
        "```\r\n",
        "Input:\r\n",
        "3\r\n",
        "15 5 2 6 8 2 9 4\r\n",
        "0 9 1 5 6 2 9 1\r\n",
        "54 49 21 96 21 96 \r\n",
        "\r\n",
        "Output:\r\n",
        "2 2 4 5 6 8 9 15\r\n",
        "0 1 1 2 5 6 9 9\r\n",
        "21 21 49 51 96 96\r\n",
        "```"
      ]
    },
    {
      "cell_type": "code",
      "metadata": {
        "id": "08V87BVweg_J"
      },
      "source": [
        "\r\n",
        "attempts = int(input())\r\n",
        "array = []\r\n",
        "loop = 0\r\n",
        "\r\n",
        "for line in iter(input,\"\\n\"):\r\n",
        "    \r\n",
        "    array.append(line.split(' '))\r\n",
        "    \r\n",
        "    loop = loop + 1\r\n",
        "    \r\n",
        "    if loop == attempts:\r\n",
        "        break\r\n",
        "\r\n",
        "def mergeSort(arr):\r\n",
        "    \r\n",
        "    if len(arr) > 1:\r\n",
        "        mid = len(arr) // 2\r\n",
        "        left = arr[:mid]\r\n",
        "        right = arr[mid:]\r\n",
        "\r\n",
        "        mergeSort(left)\r\n",
        "        mergeSort(right)\r\n",
        "\r\n",
        "        i = 0\r\n",
        "        j = 0\r\n",
        "        k = 0\r\n",
        "        \r\n",
        "        while i < len(left) and j < len(right):\r\n",
        "            if int(left[i]) < int(right[j]):\r\n",
        "              arr[k] = left[i]\r\n",
        "              i += 1\r\n",
        "            else:\r\n",
        "                arr[k] = right[j]\r\n",
        "                j += 1\r\n",
        "            k += 1\r\n",
        "\r\n",
        "        while i < len(left):\r\n",
        "            arr[k] = left[i]\r\n",
        "            i += 1\r\n",
        "            k += 1\r\n",
        "\r\n",
        "        while j < len(right):\r\n",
        "            arr[k] = right[j]\r\n",
        "            j += 1\r\n",
        "            k += 1\r\n",
        "            \r\n",
        "    \r\n",
        "for x in range(attempts):\r\n",
        "    \r\n",
        "    single_array = array[x]\r\n",
        "    \r\n",
        "    mergeSort(single_array)\r\n",
        "    \r\n",
        "    print(*single_array, sep = \" \")"
      ],
      "execution_count": null,
      "outputs": []
    }
  ]
}